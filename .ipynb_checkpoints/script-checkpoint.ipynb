{
 "cells": [
  {
   "cell_type": "code",
   "execution_count": null,
   "id": "bb5e46fa",
   "metadata": {},
   "outputs": [],
   "source": [
    "from sklearn.linear_model import Perceptron\n",
    "import matplotlib.pyplot as plt\n",
    "import numpy as np\n",
    "from itertools import product\n",
    "\n",
    "\n",
    "# Creating and visualizing AND Data\n",
    "\n",
    "data = [[0, 0], [0, 1], [1, 0], [1, 1]]\n",
    "\n",
    "labels = [0, 0, 0, 1]\n",
    "\n",
    "plt.scatter([point[0] for point in data], [point[1] for point in data], c=labels)\n",
    "plt.show()\n",
    "\n",
    "\n",
    "# Building the Perceptron\n",
    "\n",
    "classifier = Perceptron(max_iter=40)\n",
    "classifier.fit(data, labels)\n",
    "print(classifier.score(data, labels))\n",
    "\n",
    "\n",
    "# Visualizing the Perceptron\n",
    "\n",
    "print(classifier.decision_function([[0, 0], [1, 1], [0.5, 0.5]]))\n",
    "\n",
    "x_values = np.linspace(0, 1, 100)\n",
    "y_values = np.linspace(0, 1, 100)\n",
    "point_grid = list(product(x_values, y_values))\n",
    "distances = classifier.decision_function(point_grid)\n",
    "abs_distances = [abs(i) for i in distances]\n",
    "\n",
    "distances_matrix = np.reshape(abs_distances, (100, 100))\n",
    "\n",
    "heatmap = plt.pcolormesh(x_values, y_values, distances_matrix)\n",
    "plt.colorbar(heatmap)\n",
    "plt.show()\n"
   ]
  }
 ],
 "metadata": {
  "kernelspec": {
   "display_name": "Python 3",
   "language": "python",
   "name": "python3"
  },
  "language_info": {
   "codemirror_mode": {
    "name": "ipython",
    "version": 3
   },
   "file_extension": ".py",
   "mimetype": "text/x-python",
   "name": "python",
   "nbconvert_exporter": "python",
   "pygments_lexer": "ipython3",
   "version": "3.8.8"
  }
 },
 "nbformat": 4,
 "nbformat_minor": 5
}
